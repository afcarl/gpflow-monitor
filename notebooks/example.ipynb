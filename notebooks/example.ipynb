{
 "cells": [
  {
   "cell_type": "code",
   "execution_count": 1,
   "metadata": {
    "collapsed": true
   },
   "outputs": [],
   "source": [
    "%matplotlib inline\n",
    "import itertools\n",
    "import os\n",
    "import numpy as np\n",
    "import gpflow\n",
    "import numbers\n",
    "import matplotlib.pyplot as plt\n",
    "import tensorflow as tf\n",
    "from gpflow_monitor import *\n",
    "X = np.random.rand(10000, 1) * 10\n",
    "Y = np.sin(X) + np.random.randn(*X.shape)\n",
    "Xt = np.random.rand(10000, 1) * 10\n",
    "Yt = np.sin(X) + np.random.randn(*X.shape)\n",
    "np.random.seed(0)"
   ]
  },
  {
   "cell_type": "markdown",
   "metadata": {},
   "source": [
    "# Demo: `gpflow_monitor`\n",
    "In this notebook we'll demo how to use `gpflow_monitoring` for logging the optimisation of a GPflow model. The example should cover pretty much all use cases.\n",
    "\n",
    "## Creating the GPflow model\n",
    "We first create the GPflow model as usual."
   ]
  },
  {
   "cell_type": "code",
   "execution_count": 2,
   "metadata": {},
   "outputs": [
    {
     "name": "stdout",
     "output_type": "stream",
     "text": [
      "WARNING:tensorflow:From /home/mv310/projects/GPflow/gpflow/params/dataholders.py:181: Dataset.from_tensor_slices (from tensorflow.contrib.data.python.ops.dataset_ops) is deprecated and will be removed in a future version.\n",
      "Instructions for updating:\n",
      "Use `tf.data.Dataset.from_tensor_slices()`.\n"
     ]
    }
   ],
   "source": [
    "m = gpflow.models.SVGP(X, Y, gpflow.kernels.RBF(1), gpflow.likelihoods.Gaussian(), Z=np.linspace(0, 10, 5)[:, None],\n",
    "                       minibatch_size=100)\n",
    "m.likelihood.variance = 0.01\n",
    "m.compile()"
   ]
  },
  {
   "cell_type": "markdown",
   "metadata": {},
   "source": [
    "## Setting up the optimisation\n",
    "Next we need to set up the optimisation process. `gpflow_monitor` provides classes that manage the optimsation, and perform certain logging tasks. In this example, we want to:\n",
    "- log certain scalar parameters in TensorBoard\n",
    "- log the full optimisation objective (log marginal likelihood bound) periodically, even though we optimise with minibatches\n",
    "- store a backup of the optimisation process periodically\n",
    "- log performance for a test set periodically\n",
    "\n",
    "Because of the integration with TensorFlow ways of storing and logging, we will need to perform a few TensorFlow manipulations outside of GPflow as well.\n",
    "\n",
    "We start by creating the `global_step` variable. This is not strictly required by TensorFlow optimisers, but they do all have support for it. Its purpose is to track how many optimisation steps have occurred. It is useful to keep this in a TensorFlow variable as this allows it to be restored together with all the parameters of the model."
   ]
  },
  {
   "cell_type": "code",
   "execution_count": 3,
   "metadata": {
    "collapsed": true
   },
   "outputs": [],
   "source": [
    "global_step = tf.Variable(0, trainable=False, name=\"global_step\")\n",
    "m.session.run(global_step.initializer)"
   ]
  },
  {
   "cell_type": "markdown",
   "metadata": {},
   "source": [
    "Next, we create an instance of `FileWriter`, which will save the TensorBoard logs to a file. This object needs to be shared between all `gpflow_monitor.TensorBoard` objects, if they are to write to the same path."
   ]
  },
  {
   "cell_type": "code",
   "execution_count": 4,
   "metadata": {
    "collapsed": true
   },
   "outputs": [],
   "source": [
    "fw = tf.summary.FileWriter(os.path.join(\"./results/test/tensorboard/\"), m.session.graph)"
   ]
  },
  {
   "cell_type": "markdown",
   "metadata": {},
   "source": [
    "Now the TensorFlow side is set up, we can focus on the `gpflow_monitor` part. The optimsation is taken care of by the `ManagedOptimisation` class. This will run the training loop. The `ManagedOptimisation` object will also take care of running `Task`s.\n",
    "\n",
    "Each `Task` is something that needs to be run periodically during the optimisation. The first and second parameters of all tasks are a generator returning times (either in iterations or time) of when the `Task` needs to be run. The second determines whether a number of iterations (`Trigger.ITER`), an amount of time spent optimising (`Trigger.OPTIMISATION_TIME`), or the wall-clock time (`Trigger.TOTAL_TIME`) triggers the `Task` to be run. The following `Task`s are run once in every 100 or 1000 iterations."
   ]
  },
  {
   "cell_type": "code",
   "execution_count": 5,
   "metadata": {},
   "outputs": [
    {
     "name": "stdout",
     "output_type": "stream",
     "text": [
      "INFO:tensorflow:Summary name full lml is illegal; using full_lml instead.\n",
      "Restoring session from `./results/test/checkpoint-8000`.\n",
      "INFO:tensorflow:Restoring parameters from ./results/test/checkpoint-8000\n"
     ]
    }
   ],
   "source": [
    "opt_method = ManagedOptimisation(m, gpflow.train.AdamOptimizer(0.01), global_step)\n",
    "opt_method.tasks += [\n",
    "    PrintTimings((x * 100 for x in itertools.count()), Trigger.ITER),\n",
    "    ModelTensorBoard((x * 100 for x in itertools.count()), Trigger.ITER, m, fw),\n",
    "    LmlTensorBoard((x * 1000 for x in itertools.count()), Trigger.ITER, m, fw, verbose=False),\n",
    "    StoreSession((x * 1000 for x in itertools.count()), Trigger.ITER, m.session, \"./results/test/checkpoint\")\n",
    "]"
   ]
  },
  {
   "cell_type": "markdown",
   "metadata": {},
   "source": [
    "We may also want to perfom certain tasks that do not have pre-defined `Task` classes. For example, computing the performance on a test set. Here we create such a class by extending `ModelTensorBoard` to log the testing benchmarks in addition to all the scalar parameters."
   ]
  },
  {
   "cell_type": "code",
   "execution_count": 6,
   "metadata": {},
   "outputs": [],
   "source": [
    "class TestTensorBoard(ModelTensorBoard):\n",
    "    def __init__(self, sequence, trigger: Trigger, model, file_writer, Xt, Yt):\n",
    "        super().__init__(sequence, trigger, model, file_writer)\n",
    "        self.Xt = Xt\n",
    "        self.Yt = Yt\n",
    "        self._full_test_err = tf.placeholder(gpflow.settings.tf_float, shape=())\n",
    "        self._full_test_nlpp = tf.placeholder(gpflow.settings.tf_float, shape=())\n",
    "\n",
    "        self.summary = tf.summary.merge([tf.summary.scalar(\"test_rmse\", self._full_test_err),\n",
    "                                         tf.summary.scalar(\"test_nlpp\", self._full_test_nlpp)])\n",
    "\n",
    "    def _event_handler(self, manager):\n",
    "        minibatch_size = 100\n",
    "        preds = np.vstack([m.predict_y(Xt[mb * minibatch_size:(mb + 1) * minibatch_size, :])[0]\n",
    "                            for mb in range(-(-len(Xt) // minibatch_size))])\n",
    "        test_err = np.mean((Yt - preds) ** 2.0)**0.5\n",
    "        summary, step = m.session.run([self.summary, global_step],\n",
    "                                      feed_dict={self._full_test_err: test_err,\n",
    "                                                 self._full_test_nlpp: 0.0})\n",
    "        self.file_writer.add_summary(summary, step)"
   ]
  },
  {
   "cell_type": "markdown",
   "metadata": {},
   "source": [
    "We then add it to the task list."
   ]
  },
  {
   "cell_type": "code",
   "execution_count": 7,
   "metadata": {
    "scrolled": false
   },
   "outputs": [],
   "source": [
    "opt_method.tasks.append(TestTensorBoard((x * 1000 for x in itertools.count()), Trigger.ITER, m, fw, Xt, Yt))"
   ]
  },
  {
   "cell_type": "markdown",
   "metadata": {},
   "source": [
    "## Running the optimisation\n",
    "We finally get to running the optimisation. The second time this is run, the session should be restored from a checkpoint created by `StoreSession`. To confirm this, we print out the first value in all TensorFlow tensors. This includes any values used by the optimiser. This is important to ensure that the optimiser starts off from _exactly_ the same state as that it left. If this is not done correctly, models may start diverging after loading."
   ]
  },
  {
   "cell_type": "code",
   "execution_count": 8,
   "metadata": {},
   "outputs": [
    {
     "data": {
      "text/plain": [
       "[-29.671438513350214,\n",
       " 105642.70244418224,\n",
       " 0.60462358561365404,\n",
       " 177.0548159669888,\n",
       " 572052.05230759573,\n",
       " 2.2795021624035749,\n",
       " -13.968892500214993,\n",
       " 521734.970636243,\n",
       " 0.74429984134674099,\n",
       " 23.349998194087412,\n",
       " 17994155.75995528,\n",
       " 0.54319964666710507,\n",
       " 66.140432611715582,\n",
       " 407294.53293196583,\n",
       " 0.52595946097680712,\n",
       " 3.1432234523936655,\n",
       " 76466.479372075162,\n",
       " 0.024963534604432597,\n",
       " 0.0,\n",
       " 0.0003338237,\n",
       " 8000]"
      ]
     },
     "execution_count": 8,
     "metadata": {},
     "output_type": "execute_result"
    }
   ],
   "source": [
    "[u[1] if isinstance(u[1], numbers.Number) else u[1].flatten()[0]  for u in sorted([(v.name, m.session.run(v)) for v in tf.global_variables()], key=lambda x: x[0])]"
   ]
  },
  {
   "cell_type": "code",
   "execution_count": 9,
   "metadata": {
    "scrolled": true
   },
   "outputs": [
    {
     "name": "stdout",
     "output_type": "stream",
     "text": [
      "1, 8001:\t3.00 optimisation iter/s\t3.00 total iter/s\t0.00 last iter/sFull lml: -14181.634753 (-1.42e+04)\n",
      "1000, 9000:\t761.37 optimisation iter/s\t547.18 total iter/s\t995.63 last iter/sFull lml: -14166.445147 (-1.42e+04)\n",
      "2000, 10000:\t850.46 optimisation iter/s\t640.62 total iter/s\t921.44 last iter/sFull lml: -14160.863033 (-1.42e+04)\n",
      "3000, 11000:\t893.53 optimisation iter/s\t683.87 total iter/s\t996.39 last iter/sFull lml: -14173.089808 (-1.42e+04)\n",
      "4000, 12000:\t911.25 optimisation iter/s\t704.14 total iter/s\t1010.41 last iter/sFull lml: -14196.183877 (-1.42e+04)\n",
      "5000, 13000:\t931.59 optimisation iter/s\t721.71 total iter/s\t1014.06 last iter/sFull lml: -14180.076029 (-1.42e+04)\n",
      "6000, 14000:\t944.22 optimisation iter/s\t733.91 total iter/s\t998.69 last iter/sFull lml: -14159.440618 (-1.42e+04)\n",
      "7000, 15000:\t949.26 optimisation iter/s\t740.49 total iter/s\t966.56 last iter/sFull lml: -14163.653298 (-1.42e+04)\n",
      "8000, 16000:\t953.53 optimisation iter/s\t745.74 total iter/s\t958.96 last iter/sFull lml: -14164.279665 (-1.42e+04)\n",
      "8000, 16000:\t953.53 optimisation iter/s\t729.26 total iter/s\t0.00 last iter/sFull lml: -14164.279665 (-1.42e+04)\n"
     ]
    }
   ],
   "source": [
    "opt_method.minimize(m, maxiter=8000)"
   ]
  },
  {
   "cell_type": "markdown",
   "metadata": {},
   "source": [
    "Here, we print the optimised variables for comparison on the next run."
   ]
  },
  {
   "cell_type": "code",
   "execution_count": 10,
   "metadata": {},
   "outputs": [
    {
     "data": {
      "text/plain": [
       "[-29.671438513350214,\n",
       " 105642.70244418224,\n",
       " 0.60462358561365404,\n",
       " 177.0548159669888,\n",
       " 572052.05230759573,\n",
       " 2.2795021624035749,\n",
       " -13.968892500214993,\n",
       " 521734.970636243,\n",
       " 0.74429984134674099,\n",
       " 23.349998194087412,\n",
       " 17994155.75995528,\n",
       " 0.54319964666710507,\n",
       " 66.140432611715582,\n",
       " 407294.53293196583,\n",
       " 0.52595946097680712,\n",
       " 3.1432234523936655,\n",
       " 76466.479372075162,\n",
       " 0.024963534604432597,\n",
       " 0.0,\n",
       " 0.0003338237,\n",
       " 8000]"
      ]
     },
     "execution_count": 10,
     "metadata": {},
     "output_type": "execute_result"
    }
   ],
   "source": [
    "[u[1] if isinstance(u[1], numbers.Number) else u[1].flatten()[0]  for u in sorted([(v.name, m.session.run(v)) for v in tf.global_variables()], key=lambda x: x[0])]"
   ]
  },
  {
   "cell_type": "code",
   "execution_count": null,
   "metadata": {
    "collapsed": true
   },
   "outputs": [],
   "source": []
  }
 ],
 "metadata": {
  "kernelspec": {
   "display_name": "Python 3",
   "language": "python",
   "name": "python3"
  },
  "language_info": {
   "codemirror_mode": {
    "name": "ipython",
    "version": 3
   },
   "file_extension": ".py",
   "mimetype": "text/x-python",
   "name": "python",
   "nbconvert_exporter": "python",
   "pygments_lexer": "ipython3",
   "version": "3.6.2"
  }
 },
 "nbformat": 4,
 "nbformat_minor": 2
}
